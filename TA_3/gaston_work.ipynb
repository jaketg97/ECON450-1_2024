{
 "cells": [
  {
   "cell_type": "markdown",
   "metadata": {},
   "source": [
    "# Gaston work\n",
    "\n",
    "Some additional work I'm doing for Gaston, namely...\n",
    "\n",
    "1. Exporting a cleaned version of the data to CSV and making some small edits to the written PSET\n",
    "3. Seeing if I can get autograd working for my BLP"
   ]
  },
  {
   "cell_type": "markdown",
   "metadata": {},
   "source": [
    "## 1: Cleaning data"
   ]
  },
  {
   "cell_type": "code",
   "execution_count": null,
   "metadata": {},
   "outputs": [],
   "source": [
    "# Pre-question, loading libraries and data\n",
    "import pandas as pd\n",
    "from scipy.io import loadmat\n",
    "import jaxopt as jaxopt\n",
    "from PSET4_functions.misc import *\n",
    "from PSET4_functions.shares import *\n",
    "from PSET4_functions.delta import *\n",
    "from PSET4_functions.moments import * \n",
    "from PSET4_functions.mpec_wrapper import *\n",
    "\n",
    "# Exporting cleaned data as a CSV\n",
    "\n",
    "m100_j3 = loadmat(\"data/100markets3products.mat\")\n",
    "dat = clean_data(m100_j3, 3)\n",
    "dat.to_csv(\"data/100markets3products.csv\", index = False)\n",
    "\n",
    "m10_j3 = loadmat(\"data/10markets3products.mat\")\n",
    "dat = clean_data(m10_j3, 3)\n",
    "dat.to_csv(\"data/10markets3products.csv\", index = False)\n",
    "\n",
    "m100_j5 = loadmat(\"data/100markets5products.mat\")\n",
    "dat = clean_data(m100_j5, 5)\n",
    "dat.to_csv(\"data/100markets5products.csv\", index = False)"
   ]
  },
  {
   "cell_type": "markdown",
   "metadata": {},
   "source": [
    "## 2: Working on autograd\n",
    "\n",
    "Not going so well, for now. I rewrote my shares functions in shares_autograd.py, to make them JAX-compilable. They work, and jax.jackfwd produces the correct Jacobian, but it takes **way** too long: about 2 minutes for the 10X3 dataset (you can see in my output below). \n",
    "\n",
    "What's costing me here (I think) is because of how I structured my shares functions, auto_grad is taking the derivative at the market level, **for each person**, i.e. each lognormal draw. That should be solvable, and I'll work on it, it's just taken much longer to get it running at all than I expected!"
   ]
  },
  {
   "cell_type": "code",
   "execution_count": 16,
   "metadata": {},
   "outputs": [
    {
     "name": "stdout",
     "output_type": "stream",
     "text": [
      "JAX shares time:\n",
      "CPU times: user 16.7 s, sys: 64.9 ms, total: 16.8 s\n",
      "Wall time: 17.4 s\n",
      "Checking shares equal (1e-10): True\n",
      "JAX ds_ddelta time:\n",
      "CPU times: user 2min 4s, sys: 430 ms, total: 2min 4s\n",
      "Wall time: 2min 6s\n",
      "Checking derivates equal (1e-10): True\n"
     ]
    }
   ],
   "source": [
    "# Pre-question, loading libraries and data\n",
    "import importlib\n",
    "import pandas as pd\n",
    "from scipy.io import loadmat\n",
    "import jaxopt as jaxopt\n",
    "from PSET4_functions.misc import *\n",
    "import PSET4_functions.shares_autograd as s_auto \n",
    "import PSET4_functions.shares as s\n",
    "from PSET4_functions.delta import *\n",
    "from jax import jacfwd, jit\n",
    "from time import perf_counter\n",
    "\n",
    "# importlib.reload(s_auto)\n",
    "# importlib.reload(s)\n",
    "\n",
    "m10_j3 = loadmat(\"data/10markets3products.mat\")\n",
    "dat = clean_data(m10_j3, 3)\n",
    "\n",
    "shares_data_long = dat[['sjm']].to_numpy()\n",
    "prices_data_long = dat[['pjm']].to_numpy() \n",
    "x_data_long = dat[['X1jm', 'X2jm', 'X3jm']].to_numpy()\n",
    "w_data_long = dat[['wj']].to_numpy()\n",
    "supply_features_data_long = dat[['wj', 'zjm', 'etajm']].to_numpy()\n",
    "\n",
    "shares_data_wide = shares_data_long.reshape(10,3)\n",
    "\n",
    "prices_data_wide = prices_data_long.reshape(10,3)\n",
    "delta_0 = logit_delta(shares_data_wide)\n",
    "\n",
    "np.random.seed(456)\n",
    "random_vs = np.random.lognormal(0, 1, 1000)\n",
    "\n",
    "og_shares = s.shares(1, delta_0, prices_data_wide, random_vs)\n",
    "print(\"JAX shares time:\")\n",
    "%time auto_shares = s_auto.shares(1, delta_0, prices_data_wide, random_vs)\n",
    "print(\"Checking shares equal (1e-10):\", np.allclose(og_shares, auto_shares, atol=1e-10))\n",
    "\n",
    "autograd_shares = jacfwd(s_auto.shares, argnums=(1))\n",
    "og_ds_ddelta = s.shares_ddelta(1, delta_0, prices_data_wide, random_vs)\n",
    "print(\"JAX ds_ddelta time:\")\n",
    "%time auto_ds_ddelta = autograd_shares(1, delta_0, prices_data_wide, random_vs)\n",
    "print(\"Checking derivates equal (1e-10):\", np.allclose(og_ds_ddelta, auto_ds_ddelta, atol=1e-10))"
   ]
  }
 ],
 "metadata": {
  "kernelspec": {
   "display_name": "base",
   "language": "python",
   "name": "python3"
  },
  "language_info": {
   "codemirror_mode": {
    "name": "ipython",
    "version": 3
   },
   "file_extension": ".py",
   "mimetype": "text/x-python",
   "name": "python",
   "nbconvert_exporter": "python",
   "pygments_lexer": "ipython3",
   "version": "3.10.9"
  }
 },
 "nbformat": 4,
 "nbformat_minor": 2
}
